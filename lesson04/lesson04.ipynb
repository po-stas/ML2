{
 "cells": [
  {
   "cell_type": "markdown",
   "metadata": {},
   "source": [
    "Урок 4. Алгоритм построения дерева решений"
   ]
  },
  {
   "cell_type": "markdown",
   "metadata": {},
   "source": [
    "1. В коде из методички реализуйте один или несколько из критериев останова (количество листьев, количество используемых признаков, глубина дерева и т.д.)"
   ]
  },
  {
   "cell_type": "code",
   "execution_count": 2,
   "metadata": {},
   "outputs": [],
   "source": [
    "import matplotlib.pyplot as plt\n",
    "%matplotlib inline\n",
    "import random\n",
    "\n",
    "from matplotlib.colors import ListedColormap\n",
    "from sklearn import datasets\n",
    "\n",
    "import numpy as np"
   ]
  },
  {
   "cell_type": "code",
   "execution_count": 431,
   "metadata": {},
   "outputs": [],
   "source": [
    "# сгенерируем данные\n",
    "classification_data, classification_labels = datasets.make_classification(n_features = 2, n_informative = 2, \n",
    "                                                      n_classes = 2, n_redundant=0, \n",
    "                                                      n_clusters_per_class=1, random_state=5)"
   ]
  },
  {
   "cell_type": "code",
   "execution_count": 432,
   "metadata": {},
   "outputs": [
    {
     "data": {
      "text/plain": [
       "<matplotlib.collections.PathCollection at 0x7fc0d486db38>"
      ]
     },
     "execution_count": 432,
     "metadata": {},
     "output_type": "execute_result"
    },
    {
     "data": {
      "image/png": "[encoded data removed]",
      "text/plain": [
       "<Figure size 576x576 with 1 Axes>"
      ]
     },
     "metadata": {
      "needs_background": "light"
     },
     "output_type": "display_data"
    }
   ],
   "source": [
    "# визуализируем сгенерированные данные\n",
    "\n",
    "colors = ListedColormap(['red', 'blue'])\n",
    "light_colors = ListedColormap(['lightcoral', 'lightblue'])\n",
    "\n",
    "plt.figure(figsize=(8,8))\n",
    "plt.scatter(list(map(lambda x: x[0], classification_data)), list(map(lambda x: x[1], classification_data)), \n",
    "              c=classification_labels, cmap=colors)"
   ]
  },
  {
   "cell_type": "code",
   "execution_count": 1264,
   "metadata": {},
   "outputs": [],
   "source": [
    "# Реализуем класс узла\n",
    "\n",
    "class Node:\n",
    "    \n",
    "    def __init__(self, index, t, true_branch, false_branch):\n",
    "        self.index = index  # индекс признака, по которому ведется сравнение с порогом в этом узле\n",
    "        self.t = t  # значение порога\n",
    "        self.true_branch = true_branch  # поддерево, удовлетворяющее условию в узле\n",
    "        self.false_branch = false_branch  # поддерево, не удовлетворяющее условию в узле"
   ]
  },
  {
   "cell_type": "code",
   "execution_count": 1265,
   "metadata": {},
   "outputs": [],
   "source": [
    "# И класс терминального узла (листа)\n",
    "\n",
    "class Leaf:\n",
    "    \n",
    "    def __init__(self, data, labels):\n",
    "        self.data = data\n",
    "        self.labels = labels  # y_true\n",
    "        self.prediction = self.predict()  # y_pred\n",
    "        \n",
    "    def predict(self):\n",
    "        # подсчет количества объектов разных классов\n",
    "        classes = {}  # сформируем словарь \"класс: количество объектов\"\n",
    "        for label in self.labels:\n",
    "            if label not in classes:\n",
    "                classes[label] = 0\n",
    "            classes[label] += 1\n",
    "        #  найдем класс, количество объектов которого будет максимальным в этом листе и вернем его    \n",
    "        prediction = max(classes, key=classes.get)\n",
    "        return prediction"
   ]
  },
  {
   "cell_type": "code",
   "execution_count": 1266,
   "metadata": {},
   "outputs": [],
   "source": [
    "# Расчет критерия Джини\n",
    "\n",
    "def gini(labels):\n",
    "    #  подсчет количества объектов разных классов\n",
    "    classes = {}\n",
    "    for label in labels:\n",
    "        if label not in classes:\n",
    "            classes[label] = 0\n",
    "        classes[label] += 1\n",
    "    \n",
    "    #  расчет критерия\n",
    "    impurity = 1     # \"impurity\" - \"нечистота\", степень неопределенности\n",
    "    for label in classes:\n",
    "        p = classes[label] / len(labels)\n",
    "        impurity -= p ** 2\n",
    "        \n",
    "    return impurity"
   ]
  },
  {
   "cell_type": "code",
   "execution_count": 1267,
   "metadata": {},
   "outputs": [],
   "source": [
    "# Расчет качества\n",
    "\n",
    "def quality(left_labels, right_labels, current_gini):\n",
    "\n",
    "    # доля выборки, ушедшей в левое поддерево\n",
    "    p = float(left_labels.shape[0]) / (left_labels.shape[0] + right_labels.shape[0]) # для правого (1-p)\n",
    "    \n",
    "    return current_gini - p * gini(left_labels) - (1 - p) * gini(right_labels)"
   ]
  },
  {
   "cell_type": "code",
   "execution_count": 1268,
   "metadata": {},
   "outputs": [],
   "source": [
    "# Разбиение датасета в узле\n",
    "\n",
    "def split(data, labels, index, t):\n",
    "    \n",
    "    left = np.where(data[:, index] <= t)\n",
    "    right = np.where(data[:, index] > t)\n",
    "        \n",
    "    true_data = data[left]\n",
    "    false_data = data[right]\n",
    "    true_labels = labels[left]\n",
    "    false_labels = labels[right]\n",
    "        \n",
    "    return true_data, false_data, true_labels, false_labels"
   ]
  },
  {
   "cell_type": "code",
   "execution_count": 1269,
   "metadata": {},
   "outputs": [],
   "source": [
    "# Нахождение наилучшего разбиения\n",
    "\n",
    "def find_best_split(data, labels):\n",
    "    \n",
    "    #  обозначим минимальное количество объектов в узле\n",
    "    min_leaf = 5\n",
    "\n",
    "    current_gini = gini(labels)\n",
    "\n",
    "    best_quality = 0\n",
    "    best_t = None\n",
    "    best_index = None\n",
    "    \n",
    "    n_features = data.shape[1]\n",
    "    \n",
    "    for index in range(n_features):\n",
    "        t_values = [row[index] for row in data]\n",
    "        \n",
    "        for t in t_values:\n",
    "            true_data, false_data, true_labels, false_labels = split(data, labels, index, t)\n",
    "            #  пропускаем разбиения, в которых в узле остается менее 5 объектов\n",
    "            if len(true_data) < min_leaf or len(false_data) < min_leaf:\n",
    "                continue\n",
    "            \n",
    "            current_quality = quality(true_labels, false_labels, current_gini)\n",
    "            \n",
    "            #  выбираем порог, на котором получается максимальный прирост качества\n",
    "            if current_quality > best_quality:\n",
    "                best_quality, best_t, best_index = current_quality, t, index\n",
    "\n",
    "    return best_quality, best_t, best_index"
   ]
  },
  {
   "cell_type": "code",
   "execution_count": 1270,
   "metadata": {},
   "outputs": [],
   "source": [
    "# Построение дерева с помощью рекурсивной функции\n",
    "\n",
    "def build_tree(data, labels):\n",
    "\n",
    "    quality, t, index = find_best_split(data, labels)\n",
    "#     print(quality, t, index)\n",
    "\n",
    "    #  Базовый случай - прекращаем рекурсию, когда нет прироста в качества\n",
    "    if quality == 0:\n",
    "#         print('leaf')\n",
    "        return Leaf(data, labels)\n",
    "\n",
    "    true_data, false_data, true_labels, false_labels = split(data, labels, index, t)\n",
    "\n",
    "    # Рекурсивно строим два поддерева\n",
    "    true_branch = build_tree(true_data, true_labels)\n",
    "    false_branch = build_tree(false_data, false_labels)\n",
    "\n",
    "    # Возвращаем класс узла со всеми поддеревьями, то есть целого дерева\n",
    "    return Node(index, t, true_branch, false_branch)"
   ]
  },
  {
   "cell_type": "code",
   "execution_count": 1271,
   "metadata": {},
   "outputs": [],
   "source": [
    "# Проход объекта по дереву для его классификации\n",
    "\n",
    "def classify_object(obj, node):\n",
    "\n",
    "    #  Останавливаем рекурсию, если достигли листа\n",
    "    if isinstance(node, Leaf):\n",
    "        answer = node.prediction\n",
    "        return answer\n",
    "\n",
    "    if obj[node.index] <= node.t:\n",
    "        return classify_object(obj, node.true_branch)\n",
    "    else:\n",
    "        return classify_object(obj, node.false_branch)"
   ]
  },
  {
   "cell_type": "code",
   "execution_count": 1272,
   "metadata": {},
   "outputs": [],
   "source": [
    "# Предсказание деревом для всего датасета\n",
    "\n",
    "def predict(data, tree):\n",
    "    \n",
    "    classes = []\n",
    "    for obj in data:\n",
    "        prediction = classify_object(obj, tree)\n",
    "        classes.append(prediction)\n",
    "    return classes"
   ]
  },
  {
   "cell_type": "code",
   "execution_count": 1273,
   "metadata": {},
   "outputs": [],
   "source": [
    "# Разобьем выборку на обучающую и тестовую\n",
    "\n",
    "from sklearn import model_selection\n",
    "\n",
    "train_data, test_data, train_labels, test_labels = model_selection.train_test_split(classification_data, \n",
    "                                                                                     classification_labels, \n",
    "                                                                                     test_size = 0.3,\n",
    "                                                                                     random_state = 1)"
   ]
  },
  {
   "cell_type": "code",
   "execution_count": 1274,
   "metadata": {},
   "outputs": [],
   "source": [
    "# Построим дерево по обучающей выборке\n",
    "my_tree = build_tree(train_data, train_labels)"
   ]
  },
  {
   "cell_type": "code",
   "execution_count": 1275,
   "metadata": {},
   "outputs": [],
   "source": [
    "# Получим ответы для обучающей выборки \n",
    "train_answers = predict(train_data, my_tree)"
   ]
  },
  {
   "cell_type": "code",
   "execution_count": 1276,
   "metadata": {},
   "outputs": [],
   "source": [
    "# И получим ответы для тестовой выборки\n",
    "answers = predict(test_data, my_tree)"
   ]
  },
  {
   "cell_type": "code",
   "execution_count": 1277,
   "metadata": {},
   "outputs": [],
   "source": [
    "# Введем функцию подсчета точности как доли правильных ответов\n",
    "def accuracy_metric(actual, predicted):\n",
    "    correct = 0\n",
    "    for i in range(len(actual)):\n",
    "        if actual[i] == predicted[i]:\n",
    "            correct += 1\n",
    "    return correct / float(len(actual)) * 100.0"
   ]
  },
  {
   "cell_type": "code",
   "execution_count": 1278,
   "metadata": {},
   "outputs": [
    {
     "data": {
      "text/plain": [
       "98.57142857142858"
      ]
     },
     "execution_count": 1278,
     "metadata": {},
     "output_type": "execute_result"
    }
   ],
   "source": [
    "# Точность на обучающей выборке\n",
    "accuracy_metric(train_labels, train_answers)"
   ]
  },
  {
   "cell_type": "code",
   "execution_count": 1279,
   "metadata": {},
   "outputs": [
    {
     "data": {
      "text/plain": [
       "100.0"
      ]
     },
     "execution_count": 1279,
     "metadata": {},
     "output_type": "execute_result"
    }
   ],
   "source": [
    "# Точность на тестовой выборке\n",
    "accuracy_metric(test_labels, answers)"
   ]
  },
  {
   "cell_type": "markdown",
   "metadata": {},
   "source": [
    "# Итак, это был код из методички. Пробуем реализовывать критерии останова"
   ]
  },
  {
   "cell_type": "markdown",
   "metadata": {},
   "source": [
    "1. Ограничение глубины дерева"
   ]
  },
  {
   "cell_type": "code",
   "execution_count": 1280,
   "metadata": {},
   "outputs": [],
   "source": [
    "# Немного - попробуем изменить параметры так, чтобы их было больше слоев\n",
    "# - для этого в листе уменьшим минимальное количество объектов\n",
    "def find_best_split(data, labels):\n",
    "    \n",
    "    #  Снимем ограничение.. чтобы максимальное количество листьев получилось\n",
    "    min_leaf = 1\n",
    "\n",
    "    current_gini = gini(labels)\n",
    "\n",
    "    best_quality = 0\n",
    "    best_t = None\n",
    "    best_index = None\n",
    "    \n",
    "    n_features = data.shape[1]\n",
    "    \n",
    "    for index in range(n_features):\n",
    "        t_values = [row[index] for row in data]\n",
    "        \n",
    "        for t in t_values:\n",
    "            true_data, false_data, true_labels, false_labels = split(data, labels, index, t)\n",
    "            #  пропускаем разбиения, в которых в узле остается менее 5 объектов\n",
    "            if len(true_data) < min_leaf or len(false_data) < min_leaf:\n",
    "                continue\n",
    "            \n",
    "            current_quality = quality(true_labels, false_labels, current_gini)\n",
    "            \n",
    "            #  выбираем порог, на котором получается максимальный прирост качества\n",
    "            if current_quality > best_quality:\n",
    "                best_quality, best_t, best_index = current_quality, t, index\n",
    "\n",
    "    return best_quality, best_t, best_index"
   ]
  },
  {
   "cell_type": "code",
   "execution_count": 1281,
   "metadata": {},
   "outputs": [],
   "source": [
    "# Ограничим глубину дерева\n",
    "def build_tree_w_depth_constraint(data, labels, depth, max_depth):\n",
    "    \n",
    "    quality, t, index = find_best_split(data, labels)\n",
    "\n",
    "    #  Базовый случай - прекращаем рекурсию, когда нет прироста в качества\n",
    "    if quality == 0 or depth >= max_depth:\n",
    "        return Leaf(data, labels)\n",
    "\n",
    "    true_data, false_data, true_labels, false_labels = split(data, labels, index, t)\n",
    "\n",
    "    # Рекурсивно строим два поддерева\n",
    "    true_branch = build_tree_w_depth_constraint(true_data, true_labels, depth+1, max_depth)\n",
    "    false_branch = build_tree_w_depth_constraint(false_data, false_labels, depth+1, max_depth)\n",
    "\n",
    "    # Возвращаем класс узла со всеми поддеревьями, то есть целого дерева\n",
    "    return Node(index, t, true_branch, false_branch)"
   ]
  },
  {
   "cell_type": "code",
   "execution_count": 1282,
   "metadata": {},
   "outputs": [],
   "source": [
    "# Определим функцию оценки глубины дерева\n",
    "def tree_depth(tree):\n",
    "    def check_node(node, cur_depth):\n",
    "        if isinstance(node, Node):\n",
    "            if isinstance(node.true_branch, Node) or isinstance(node.false_branch, Node):\n",
    "                cur_depth += 1\n",
    "        \n",
    "            cur_depth = check_node(node.true_branch, cur_depth)\n",
    "            cur_depth = check_node(node.false_branch, cur_depth)\n",
    "\n",
    "        return cur_depth\n",
    "            \n",
    "    depth = check_node(tree, cur_depth=1)\n",
    "    return depth\n"
   ]
  },
  {
   "cell_type": "code",
   "execution_count": 1283,
   "metadata": {},
   "outputs": [
    {
     "data": {
      "text/plain": [
       "3"
      ]
     },
     "execution_count": 1283,
     "metadata": {},
     "output_type": "execute_result"
    }
   ],
   "source": [
    "tree_depth(my_tree)"
   ]
  },
  {
   "cell_type": "code",
   "execution_count": 1284,
   "metadata": {},
   "outputs": [],
   "source": [
    "# Построим ограниченное по глубине дерево\n",
    "my_constrained_by_depth_tree = build_tree_w_depth_constraint(train_data, train_labels, depth=0, max_depth=5)"
   ]
  },
  {
   "cell_type": "code",
   "execution_count": 1285,
   "metadata": {},
   "outputs": [
    {
     "data": {
      "text/plain": [
       "5"
      ]
     },
     "execution_count": 1285,
     "metadata": {},
     "output_type": "execute_result"
    }
   ],
   "source": [
    "# Проверим глубину\n",
    "tree_depth(my_constrained_by_depth_tree)"
   ]
  },
  {
   "cell_type": "code",
   "execution_count": 1286,
   "metadata": {},
   "outputs": [],
   "source": [
    "# Не претендуя на универсальность, запилю простенькую функцию визуализации:\n",
    "def tree_viz(tree):\n",
    "    pos = 30\n",
    "    tab = 15\n",
    "    cur_layer = [tree]\n",
    "    for l in range(tree_depth(tree)+1):\n",
    "        space = ''.join([' ' for space in range(pos)])\n",
    "        layer = space\n",
    "        inter_layer = space\n",
    "        tab_space = ''.join([' ' for space in range(tab)])\n",
    "        next_layer = []\n",
    "        for index, item in enumerate(cur_layer):\n",
    "            if isinstance(item, Node):\n",
    "                layer += str('N')\n",
    "                inter_layer += '/\\\\'\n",
    "                next_layer.extend([item.true_branch, item.false_branch])\n",
    "            if isinstance(item, Leaf):\n",
    "                layer += 'L'\n",
    "                inter_layer += ' '\n",
    "                next_layer.extend([None, None])\n",
    "            if not item:\n",
    "                layer += '  '\n",
    "                inter_layer += '  '\n",
    "                next_layer.extend([None, None])\n",
    "            if index%2 == 0:\n",
    "                layer += tab_space\n",
    "                inter_layer += tab_space\n",
    "            else:\n",
    "                layer += ''.join([' ' for space in range(int(tab/3))])\n",
    "                tab_space += ''.join([' ' for space in range(int(tab/3))])\n",
    "        pos -= int(tab/2)\n",
    "        tab -= 3\n",
    "        \n",
    "        print(layer)\n",
    "        print(inter_layer)\n",
    "        cur_layer = next_layer"
   ]
  },
  {
   "cell_type": "code",
   "execution_count": 1287,
   "metadata": {},
   "outputs": [
    {
     "name": "stdout",
     "output_type": "stream",
     "text": [
      "                              N               \n",
      "                              /\\               \n",
      "                       N            L    \n",
      "                       /\\             \n",
      "                 N         L                      \n",
      "                 /\\                          \n",
      "             L      N                                                  \n",
      "                    /\\                                          \n",
      "                  N    L                                                                            \n",
      "                 /\\                                                                          \n",
      "                 LL                                                    \n",
      "                                                                       \n"
     ]
    }
   ],
   "source": [
    "tree_viz(my_constrained_by_depth_tree)"
   ]
  },
  {
   "cell_type": "code",
   "execution_count": 1288,
   "metadata": {},
   "outputs": [
    {
     "data": {
      "text/plain": [
       "4"
      ]
     },
     "execution_count": 1288,
     "metadata": {},
     "output_type": "execute_result"
    }
   ],
   "source": [
    "# Попробуем по-ограничивать дерево по глубине\n",
    "my_constrained_by_depth_tree = build_tree_w_depth_constraint(train_data, train_labels, depth=0, max_depth=4)\n",
    "tree_depth(my_constrained_by_depth_tree)"
   ]
  },
  {
   "cell_type": "code",
   "execution_count": 1289,
   "metadata": {},
   "outputs": [
    {
     "name": "stdout",
     "output_type": "stream",
     "text": [
      "                              N               \n",
      "                              /\\               \n",
      "                       N            L    \n",
      "                       /\\             \n",
      "                 N         L                      \n",
      "                 /\\                          \n",
      "             L      N                                                  \n",
      "                    /\\                                          \n",
      "                  L    L                                                                            \n",
      "                                                                                            \n"
     ]
    }
   ],
   "source": [
    "tree_viz(my_constrained_by_depth_tree)"
   ]
  },
  {
   "cell_type": "code",
   "execution_count": 1290,
   "metadata": {},
   "outputs": [
    {
     "data": {
      "text/plain": [
       "3"
      ]
     },
     "execution_count": 1290,
     "metadata": {},
     "output_type": "execute_result"
    }
   ],
   "source": [
    "# И еще меньше\n",
    "my_constrained_by_depth_tree = build_tree_w_depth_constraint(train_data, train_labels, depth=0, max_depth=3)\n",
    "tree_depth(my_constrained_by_depth_tree)"
   ]
  },
  {
   "cell_type": "code",
   "execution_count": 1291,
   "metadata": {},
   "outputs": [
    {
     "name": "stdout",
     "output_type": "stream",
     "text": [
      "                              N               \n",
      "                              /\\               \n",
      "                       N            L    \n",
      "                       /\\             \n",
      "                 N         L                      \n",
      "                 /\\                          \n",
      "             L      L                                                  \n",
      "                                                               \n"
     ]
    }
   ],
   "source": [
    "tree_viz(my_constrained_by_depth_tree)"
   ]
  },
  {
   "cell_type": "code",
   "execution_count": 1292,
   "metadata": {},
   "outputs": [
    {
     "data": {
      "text/plain": [
       "2"
      ]
     },
     "execution_count": 1292,
     "metadata": {},
     "output_type": "execute_result"
    }
   ],
   "source": [
    "# И совсем мало )\n",
    "my_constrained_by_depth_tree = build_tree_w_depth_constraint(train_data, train_labels, depth=0, max_depth=2)\n",
    "tree_depth(my_constrained_by_depth_tree)"
   ]
  },
  {
   "cell_type": "code",
   "execution_count": 1293,
   "metadata": {},
   "outputs": [
    {
     "name": "stdout",
     "output_type": "stream",
     "text": [
      "                              N               \n",
      "                              /\\               \n",
      "                       N            L    \n",
      "                       /\\             \n",
      "                 L         L                      \n",
      "                                            \n"
     ]
    }
   ],
   "source": [
    "tree_viz(my_constrained_by_depth_tree)"
   ]
  },
  {
   "cell_type": "code",
   "execution_count": 1294,
   "metadata": {},
   "outputs": [],
   "source": [
    "# Получим ответы для обучающей выборки \n",
    "train_answers = predict(train_data, my_constrained_by_depth_tree)"
   ]
  },
  {
   "cell_type": "code",
   "execution_count": 1295,
   "metadata": {},
   "outputs": [],
   "source": [
    "# И получим ответы для тестовой выборки\n",
    "answers = predict(test_data, my_constrained_by_depth_tree)"
   ]
  },
  {
   "cell_type": "code",
   "execution_count": 1296,
   "metadata": {},
   "outputs": [
    {
     "data": {
      "text/plain": [
       "92.85714285714286"
      ]
     },
     "execution_count": 1296,
     "metadata": {},
     "output_type": "execute_result"
    }
   ],
   "source": [
    "# Точность на обучающей выборке\n",
    "accuracy_metric(train_labels, train_answers)"
   ]
  },
  {
   "cell_type": "code",
   "execution_count": 1297,
   "metadata": {},
   "outputs": [
    {
     "data": {
      "text/plain": [
       "96.66666666666667"
      ]
     },
     "execution_count": 1297,
     "metadata": {},
     "output_type": "execute_result"
    }
   ],
   "source": [
    "# Точность на тестовой выборке\n",
    "accuracy_metric(test_labels, answers)"
   ]
  },
  {
   "cell_type": "markdown",
   "metadata": {},
   "source": [
    "Упс. Точность упала у ограниченного дерева"
   ]
  },
  {
   "cell_type": "code",
   "execution_count": 1260,
   "metadata": {},
   "outputs": [],
   "source": [
    "# Теперь попробуем ограничить количество листьев"
   ]
  },
  {
   "cell_type": "code",
   "execution_count": 1298,
   "metadata": {},
   "outputs": [],
   "source": [
    "# Определим функцию подсчета листьев\n",
    "def count_leaves(tree):\n",
    "    def check_leaf(node, leaves_count):\n",
    "        if isinstance(node, Leaf):\n",
    "            return leaves_count + 1\n",
    "        \n",
    "        leaves_count = check_leaf(node.true_branch, leaves_count)\n",
    "        leaves_count = check_leaf(node.false_branch, leaves_count)\n",
    "\n",
    "        return leaves_count\n",
    "            \n",
    "    count = check_leaf(tree, leaves_count=0)\n",
    "    print(count)\n"
   ]
  },
  {
   "cell_type": "code",
   "execution_count": 1299,
   "metadata": {},
   "outputs": [
    {
     "name": "stdout",
     "output_type": "stream",
     "text": [
      "4\n"
     ]
    }
   ],
   "source": [
    "# Посчитаем сколько листьев у нашего старого дерева\n",
    "count_leaves(my_tree)"
   ]
  },
  {
   "cell_type": "code",
   "execution_count": 1300,
   "metadata": {},
   "outputs": [
    {
     "name": "stdout",
     "output_type": "stream",
     "text": [
      "                              N               \n",
      "                              /\\               \n",
      "                       N            L    \n",
      "                       /\\             \n",
      "                 N         L                      \n",
      "                 /\\                          \n",
      "             L      L                                                  \n",
      "                                                               \n"
     ]
    }
   ],
   "source": [
    "tree_viz(my_tree)"
   ]
  },
  {
   "cell_type": "code",
   "execution_count": 1301,
   "metadata": {},
   "outputs": [],
   "source": [
    "# Ограничим количество листьев\n",
    "# Что-то я не смог себе представить как можно в рекурсивном алгоритме ограничивать листья.. \n",
    "# получается мы же в рекурсии пойдем первым делом по одной ветке - и в ней весь ресурс листьев и используем\n",
    "# И остальные ветки просто не вырастут - получится диспропорция некая\n",
    "# Поэтому нагородил жутко громоздкий не-рекурсивный алгоритм роста. Он растит дерево слоями - сверху-вниз\n",
    "# Каждый слой - слева-направо\n",
    "\n",
    "def build_tree_w_leaf_constraint(data, labels, max_leaves):\n",
    "    leaves = 0\n",
    "    \n",
    "    class Section():\n",
    "        def __init__(self, data, labels):\n",
    "            self.data = data\n",
    "            self.labels = labels\n",
    "        \n",
    "    nodes = []\n",
    "    datas = []\n",
    "    i = 0\n",
    "    \n",
    "    datas.append([Section(data, labels)])\n",
    "    nodes.append([Leaf(data, labels)])\n",
    "    \n",
    "    while(True):\n",
    "        datas.append([])\n",
    "        nodes.append([])\n",
    "        if not any(nodes[i]):\n",
    "            break\n",
    "        \n",
    "        for j, (n, d) in enumerate(zip(nodes[i], datas[i])):\n",
    "            if leaves < max_leaves-1:\n",
    "                if d:\n",
    "                    quality, t, index = find_best_split(d.data, d.labels)\n",
    "                    if quality == 0:\n",
    "                        leaves += 1\n",
    "                        if leaves >= max_leaves-1:\n",
    "                            for x in range(len(nodes[i])):\n",
    "                                if isinstance(nodes[i][x], Node):\n",
    "                                    nodes[i][x] = Leaf(datas[i][x].data, datas[i][x].labels)\n",
    "                            for x in range(len(datas[i+1])):\n",
    "                                datas[i+1][x] = None\n",
    "                                nodes[i+1][x] = None\n",
    "                        datas[i+1].extend([None, None])\n",
    "                        nodes[i+1].extend([None, None])\n",
    "                    else:\n",
    "                        true_data, false_data, true_labels, false_labels = split(d.data, d.labels, index, t)\n",
    "                        datas[i+1].extend([Section(true_data, true_labels), Section(false_data, false_labels)])\n",
    "                        nodes[i+1].extend([Leaf(true_data, true_labels), Leaf(false_data, false_labels)])\n",
    "                        nodes[i][j] = Node(index, t, nodes[i+1][j*2], nodes[i+1][j*2 + 1])\n",
    "                else:\n",
    "                    datas[i+1].extend([None, None])\n",
    "                    nodes[i+1].extend([None, None])\n",
    "            else:\n",
    "                break\n",
    "\n",
    "        i+=1\n",
    "        if leaves >= max_leaves:\n",
    "            break\n",
    "            \n",
    "    # Пересборка дерева из получившихся списков\n",
    "    for i, row in enumerate(nodes):\n",
    "        for j, item in enumerate(row):\n",
    "            if isinstance(item, Node):\n",
    "                item.true_branch = nodes[i+1][j*2]\n",
    "                item.false_branch = nodes[i+1][j*2 + 1]\n",
    "        \n",
    "    return nodes[0][0]\n"
   ]
  },
  {
   "cell_type": "code",
   "execution_count": 1302,
   "metadata": {},
   "outputs": [],
   "source": [
    "# Построим ограниченное по количеству листьев дерево\n",
    "my_constrained_by_leaves_tree = build_tree_w_leaf_constraint(train_data, train_labels, max_leaves=6)"
   ]
  },
  {
   "cell_type": "code",
   "execution_count": 1303,
   "metadata": {},
   "outputs": [
    {
     "name": "stdout",
     "output_type": "stream",
     "text": [
      "6\n"
     ]
    }
   ],
   "source": [
    "count_leaves(my_constrained_by_leaves_tree)"
   ]
  },
  {
   "cell_type": "code",
   "execution_count": 1304,
   "metadata": {},
   "outputs": [
    {
     "name": "stdout",
     "output_type": "stream",
     "text": [
      "                              N               \n",
      "                              /\\               \n",
      "                       N            L    \n",
      "                       /\\             \n",
      "                 N         L                      \n",
      "                 /\\                          \n",
      "             L      N                                                  \n",
      "                    /\\                                          \n",
      "                  N    L                                                                            \n",
      "                 /\\                                                                          \n",
      "                 LL                                                    \n",
      "                                                                       \n"
     ]
    }
   ],
   "source": [
    "tree_viz(my_constrained_by_leaves_tree)"
   ]
  },
  {
   "cell_type": "code",
   "execution_count": 1305,
   "metadata": {},
   "outputs": [],
   "source": [
    "# Очевидно, что для текущих данных, больше 6 листьев дерево у нас быть просто не может.."
   ]
  },
  {
   "cell_type": "code",
   "execution_count": 1306,
   "metadata": {},
   "outputs": [],
   "source": [
    "# Получим ответы для обучающей выборки \n",
    "train_answers = predict(train_data, my_constrained_by_leaves_tree)"
   ]
  },
  {
   "cell_type": "code",
   "execution_count": 1307,
   "metadata": {},
   "outputs": [],
   "source": [
    "# И получим ответы для тестовой выборки\n",
    "answers = predict(test_data, my_constrained_by_leaves_tree)"
   ]
  },
  {
   "cell_type": "code",
   "execution_count": 1308,
   "metadata": {},
   "outputs": [
    {
     "data": {
      "text/plain": [
       "100.0"
      ]
     },
     "execution_count": 1308,
     "metadata": {},
     "output_type": "execute_result"
    }
   ],
   "source": [
    "# Точность на обучающей выборке\n",
    "accuracy_metric(train_labels, train_answers)"
   ]
  },
  {
   "cell_type": "code",
   "execution_count": 1309,
   "metadata": {},
   "outputs": [
    {
     "data": {
      "text/plain": [
       "96.66666666666667"
      ]
     },
     "execution_count": 1309,
     "metadata": {},
     "output_type": "execute_result"
    }
   ],
   "source": [
    "# Точность на тестовой выборке\n",
    "accuracy_metric(test_labels, answers)"
   ]
  },
  {
   "cell_type": "markdown",
   "metadata": {},
   "source": [
    "Ну тут все понятно: переобучилось немного ) поскольку листьев очень много вышло."
   ]
  },
  {
   "cell_type": "code",
   "execution_count": 1310,
   "metadata": {},
   "outputs": [],
   "source": [
    "# Попробуем ему меньше листьев сделать\n",
    "my_constrained_by_leaves_tree = build_tree_w_leaf_constraint(train_data, train_labels, max_leaves=4)"
   ]
  },
  {
   "cell_type": "code",
   "execution_count": 1311,
   "metadata": {},
   "outputs": [
    {
     "name": "stdout",
     "output_type": "stream",
     "text": [
      "4\n"
     ]
    }
   ],
   "source": [
    "count_leaves(my_constrained_by_leaves_tree)"
   ]
  },
  {
   "cell_type": "code",
   "execution_count": 1312,
   "metadata": {},
   "outputs": [
    {
     "name": "stdout",
     "output_type": "stream",
     "text": [
      "                              N               \n",
      "                              /\\               \n",
      "                       N            L    \n",
      "                       /\\             \n",
      "                 N         L                      \n",
      "                 /\\                          \n",
      "             L      L                                                  \n",
      "                                                               \n"
     ]
    }
   ],
   "source": [
    "tree_viz(my_constrained_by_leaves_tree)"
   ]
  },
  {
   "cell_type": "code",
   "execution_count": 1313,
   "metadata": {},
   "outputs": [],
   "source": [
    "# Получим ответы для обучающей выборки \n",
    "train_answers = predict(train_data, my_constrained_by_leaves_tree)"
   ]
  },
  {
   "cell_type": "code",
   "execution_count": 1314,
   "metadata": {},
   "outputs": [],
   "source": [
    "# И получим ответы для тестовой выборки\n",
    "answers = predict(test_data, my_constrained_by_leaves_tree)"
   ]
  },
  {
   "cell_type": "code",
   "execution_count": 1315,
   "metadata": {},
   "outputs": [
    {
     "data": {
      "text/plain": [
       "98.57142857142858"
      ]
     },
     "execution_count": 1315,
     "metadata": {},
     "output_type": "execute_result"
    }
   ],
   "source": [
    "# Точность на обучающей выборке\n",
    "accuracy_metric(train_labels, train_answers)"
   ]
  },
  {
   "cell_type": "code",
   "execution_count": 1316,
   "metadata": {},
   "outputs": [
    {
     "data": {
      "text/plain": [
       "100.0"
      ]
     },
     "execution_count": 1316,
     "metadata": {},
     "output_type": "execute_result"
    }
   ],
   "source": [
    "# Точность на тестовой выборке\n",
    "accuracy_metric(test_labels, answers)"
   ]
  },
  {
   "cell_type": "markdown",
   "metadata": {},
   "source": [
    "Вот это уже похоже на то, что в нашем старом дереве было"
   ]
  },
  {
   "cell_type": "code",
   "execution_count": 1317,
   "metadata": {},
   "outputs": [
    {
     "name": "stdout",
     "output_type": "stream",
     "text": [
      "3\n"
     ]
    }
   ],
   "source": [
    "# Еще немного помучаем его\n",
    "my_constrained_by_leaves_tree = build_tree_w_leaf_constraint(train_data, train_labels, max_leaves=3)\n",
    "count_leaves(my_constrained_by_leaves_tree)"
   ]
  },
  {
   "cell_type": "code",
   "execution_count": 1318,
   "metadata": {},
   "outputs": [
    {
     "name": "stdout",
     "output_type": "stream",
     "text": [
      "                              N               \n",
      "                              /\\               \n",
      "                       N            L    \n",
      "                       /\\             \n",
      "                 L         L                      \n",
      "                                            \n"
     ]
    }
   ],
   "source": [
    "tree_viz(my_constrained_by_leaves_tree)"
   ]
  },
  {
   "cell_type": "code",
   "execution_count": 1319,
   "metadata": {},
   "outputs": [
    {
     "name": "stdout",
     "output_type": "stream",
     "text": [
      "2\n"
     ]
    }
   ],
   "source": [
    "# Замучаем совсем\n",
    "my_constrained_by_leaves_tree = build_tree_w_leaf_constraint(train_data, train_labels, max_leaves=2)\n",
    "count_leaves(my_constrained_by_leaves_tree)"
   ]
  },
  {
   "cell_type": "code",
   "execution_count": 1320,
   "metadata": {},
   "outputs": [
    {
     "name": "stdout",
     "output_type": "stream",
     "text": [
      "                              N               \n",
      "                              /\\               \n",
      "                       L            L    \n",
      "                                     \n"
     ]
    }
   ],
   "source": [
    "tree_viz(my_constrained_by_leaves_tree)"
   ]
  },
  {
   "cell_type": "code",
   "execution_count": 1321,
   "metadata": {},
   "outputs": [
    {
     "name": "stdout",
     "output_type": "stream",
     "text": [
      "1\n"
     ]
    }
   ],
   "source": [
    "# До последнего\n",
    "my_constrained_by_leaves_tree = build_tree_w_leaf_constraint(train_data, train_labels, max_leaves=1)\n",
    "count_leaves(my_constrained_by_leaves_tree)"
   ]
  },
  {
   "cell_type": "code",
   "execution_count": 1322,
   "metadata": {},
   "outputs": [
    {
     "name": "stdout",
     "output_type": "stream",
     "text": [
      "                              L               \n",
      "                                              \n",
      "                                           \n",
      "                                       \n"
     ]
    }
   ],
   "source": [
    "tree_viz(my_constrained_by_leaves_tree)"
   ]
  },
  {
   "cell_type": "code",
   "execution_count": 1323,
   "metadata": {},
   "outputs": [],
   "source": [
    "# Кстати: проверим, что будет с таким деревом предсказываться ))\n",
    "train_answers = predict(train_data, my_constrained_by_leaves_tree)\n",
    "answers = predict(test_data, my_constrained_by_leaves_tree)"
   ]
  },
  {
   "cell_type": "code",
   "execution_count": 1324,
   "metadata": {},
   "outputs": [
    {
     "data": {
      "text/plain": [
       "50.0"
      ]
     },
     "execution_count": 1324,
     "metadata": {},
     "output_type": "execute_result"
    }
   ],
   "source": [
    "# Точность на обучающей выборке\n",
    "accuracy_metric(train_labels, train_answers)"
   ]
  },
  {
   "cell_type": "code",
   "execution_count": 1325,
   "metadata": {},
   "outputs": [
    {
     "data": {
      "text/plain": [
       "50.0"
      ]
     },
     "execution_count": 1325,
     "metadata": {},
     "output_type": "execute_result"
    }
   ],
   "source": [
    "# Точность на тестовой выборке\n",
    "accuracy_metric(test_labels, answers)"
   ]
  },
  {
   "cell_type": "code",
   "execution_count": 1326,
   "metadata": {},
   "outputs": [],
   "source": [
    "# Что-ж, ожидаемо... как если бы не было вообще никакой модели."
   ]
  },
  {
   "cell_type": "code",
   "execution_count": null,
   "metadata": {},
   "outputs": [],
   "source": []
  }
 ],
 "metadata": {
  "kernelspec": {
   "display_name": "Python 3",
   "language": "python",
   "name": "python3"
  },
  "language_info": {
   "codemirror_mode": {
    "name": "ipython",
    "version": 3
   },
   "file_extension": ".py",
   "mimetype": "text/x-python",
   "name": "python",
   "nbconvert_exporter": "python",
   "pygments_lexer": "ipython3",
   "version": "3.7.3"
  }
 },
 "nbformat": 4,
 "nbformat_minor": 2
}
