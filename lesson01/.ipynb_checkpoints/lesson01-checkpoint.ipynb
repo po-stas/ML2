{
 "cells": [
  {
   "cell_type": "markdown",
   "metadata": {},
   "source": [
    "Урок 1. Алгоритм линейной регрессии. Градиентный спуск"
   ]
  },
  {
   "cell_type": "markdown",
   "metadata": {},
   "source": [
    "1. Подберите скорость обучения (alpha) и количество итераций"
   ]
  },
  {
   "cell_type": "code",
   "execution_count": 2,
   "metadata": {},
   "outputs": [],
   "source": [
    "import numpy as np"
   ]
  },
  {
   "cell_type": "code",
   "execution_count": 3,
   "metadata": {},
   "outputs": [],
   "source": [
    "X = np.array([[1, 1, 1, 1, 1, 1, 1, 1, 1, 1],\n",
    "              [1, 1, 2, 5, 3, 0, 5, 10, 1, 2]])"
   ]
  },
  {
   "cell_type": "code",
   "execution_count": 6,
   "metadata": {},
   "outputs": [],
   "source": [
    "y = [45, 55, 50, 55, 60, 35, 75, 80, 50, 60]"
   ]
  },
  {
   "cell_type": "code",
   "execution_count": 9,
   "metadata": {},
   "outputs": [],
   "source": [
    "def calc_mse(y, y_pred):\n",
    "    err = np.mean((y - y_pred)**2)\n",
    "    return err"
   ]
  },
  {
   "cell_type": "code",
   "execution_count": 36,
   "metadata": {},
   "outputs": [
    {
     "name": "stdout",
     "output_type": "stream",
     "text": [
      "Number of objects = 10        \n",
      "Learning rate = 0.005        \n",
      "Initial weights = [1.  0.5] \n",
      "\n",
      "Iteration #0: W_new = [1.54  2.385], MSE = 3047.75\n",
      "Iteration #100: W_new = [18.4213823   8.64345589], MSE = 381.29\n",
      "Iteration #200: W_new = [28.04159337  6.89897898], MSE = 181.65\n",
      "Iteration #300: W_new = [34.13945684  5.79322546], MSE = 100.66\n",
      "Iteration #400: W_new = [38.02179543  5.08922322], MSE = 67.52\n",
      "Iteration #500: W_new = [40.50442889  4.63903592], MSE = 53.84\n",
      "Iteration #600: W_new = [42.09889885  4.34990337], MSE = 48.14\n",
      "Iteration #700: W_new = [43.12735521  4.16340867], MSE = 45.75\n",
      "Iteration #800: W_new = [43.79355212  4.04260413], MSE = 44.73\n",
      "Iteration #900: W_new = [44.2269115   3.96402109], MSE = 44.3\n",
      "Iteration #1000: W_new = [44.50998842  3.91268946], MSE = 44.11\n",
      "Iteration #1100: W_new = [44.69566337  3.87902017], MSE = 44.03\n",
      "Iteration #1200: W_new = [44.81794945  3.85684547], MSE = 44.0\n",
      "Iteration #1300: W_new = [44.89881393  3.84218194], MSE = 43.98\n",
      "Iteration #1400: W_new = [44.95250207  3.83244643], MSE = 43.97\n",
      "Iteration #1500: W_new = [44.98828873  3.82595707], MSE = 43.97\n",
      "Iteration #1600: W_new = [45.01223673  3.82161447], MSE = 43.97\n",
      "Iteration #1700: W_new = [45.02832486  3.81869713], MSE = 43.97\n",
      "Iteration #1800: W_new = [45.03917445  3.81672973], MSE = 43.97\n",
      "Iteration #1900: W_new = [45.04651919  3.81539787], MSE = 43.97\n",
      "Iteration #2000: W_new = [45.05151007  3.81449285], MSE = 43.97\n",
      "Iteration #2100: W_new = [45.05491415  3.81387558], MSE = 43.97\n",
      "Iteration #2200: W_new = [45.05724455  3.813453  ], MSE = 43.97\n",
      "Iteration #2300: W_new = [45.05884576  3.81316264], MSE = 43.97\n",
      "Iteration #2400: W_new = [45.05994995  3.81296241], MSE = 43.97\n",
      "Iteration #2500: W_new = [45.06071412  3.81282384], MSE = 43.97\n",
      "Iteration #2600: W_new = [45.06124487  3.8127276 ], MSE = 43.97\n",
      "Iteration #2700: W_new = [45.0616148   3.81266052], MSE = 43.97\n",
      "Iteration #2800: W_new = [45.06187353  3.8126136 ], MSE = 43.97\n",
      "Iteration #2900: W_new = [45.06205511  3.81258067], MSE = 43.97\n",
      "Iteration #3000: W_new = [45.06218299  3.81255749], MSE = 43.97\n",
      "Iteration #3100: W_new = [45.06227335  3.8125411 ], MSE = 43.97\n",
      "Iteration #3200: W_new = [45.06233741  3.81252948], MSE = 43.97\n",
      "Iteration #3300: W_new = [45.06238298  3.81252122], MSE = 43.97\n",
      "Iteration #3400: W_new = [45.06241551  3.81251532], MSE = 43.97\n",
      "Iteration #3500: W_new = [45.06243879  3.8125111 ], MSE = 43.97\n",
      "Iteration #3600: W_new = [45.06245552  3.81250807], MSE = 43.97\n",
      "Iteration #3700: W_new = [45.06246757  3.81250588], MSE = 43.97\n",
      "Iteration #3800: W_new = [45.06247629  3.8125043 ], MSE = 43.97\n",
      "Iteration #3900: W_new = [45.0624826   3.81250315], MSE = 43.97\n",
      "Iteration #4000: W_new = [45.0624872   3.81250232], MSE = 43.97\n",
      "Iteration #4100: W_new = [45.06249055  3.81250171], MSE = 43.97\n",
      "Iteration #4200: W_new = [45.06249301  3.81250127], MSE = 43.97\n",
      "Iteration #4300: W_new = [45.06249481  3.81250094], MSE = 43.97\n",
      "Iteration #4400: W_new = [45.06249613  3.8125007 ], MSE = 43.97\n",
      "Iteration #4500: W_new = [45.06249711  3.81250052], MSE = 43.97\n",
      "Iteration #4600: W_new = [45.06249784  3.81250039], MSE = 43.97\n",
      "Iteration #4700: W_new = [45.06249837  3.81250029], MSE = 43.97\n",
      "Iteration #4800: W_new = [45.06249878  3.81250022], MSE = 43.97\n",
      "Iteration #4900: W_new = [45.06249907  3.81250017], MSE = 43.97\n"
     ]
    }
   ],
   "source": [
    "n = X.shape[1]\n",
    "alpha = 5e-3\n",
    "W = np.array([1, 0.5])\n",
    "print(f'Number of objects = {n} \\\n",
    "       \\nLearning rate = {alpha} \\\n",
    "       \\nInitial weights = {W} \\n')\n",
    "\n",
    "for i in range(5000):\n",
    "    y_pred = np.dot(W, X)\n",
    "    err = calc_mse(y, y_pred)\n",
    "    for k in range(W.shape[0]):\n",
    "        W[k] -= alpha * (1/n * 2 * np.sum(X[k] * (y_pred - y)))\n",
    "    if i % 100 == 0:\n",
    "        alpha /= 1.01\n",
    "        print(f'Iteration #{i}: W_new = {W}, MSE = {round(err,2)}')"
   ]
  },
  {
   "cell_type": "markdown",
   "metadata": {},
   "source": [
    "Можно придти к такому результату с разными наборами параметров: alpha = 5e-3, количество итераций 5000.. \n",
    "Сначала сбило с толку, что альфу мы еще и уменьшаем каждые 100 шагов, причем довольно сильно. В итоге этот параметр тоже требовал подбора."
   ]
  },
  {
   "cell_type": "code",
   "execution_count": null,
   "metadata": {},
   "outputs": [],
   "source": []
  },
  {
   "cell_type": "markdown",
   "metadata": {},
   "source": [
    "2. В этом коде мы избавляемся от итераций по весам, но тут есть ошибка, исправьте ее"
   ]
  },
  {
   "cell_type": "code",
   "execution_count": 57,
   "metadata": {},
   "outputs": [
    {
     "name": "stdout",
     "output_type": "stream",
     "text": [
      "Number of objects = 10        \n",
      "Learning rate = 0.009        \n",
      "Initial weights = [1.  0.5] \n",
      "\n",
      "Iteration #0: W_new = [1.972 3.893], MSE = 3047.75\n",
      "Iteration #100: W_new = [26.7587168   7.13160887], MSE = 204.39\n",
      "Iteration #200: W_new = [37.03456401  5.26824242], MSE = 74.83\n",
      "Iteration #300: W_new = [41.54149259  4.45098041], MSE = 49.9\n",
      "Iteration #400: W_new = [43.51820602  4.0925339 ], MSE = 45.11\n",
      "Iteration #500: W_new = [44.38518138  3.93532129], MSE = 44.19\n",
      "Iteration #600: W_new = [44.76543188  3.86636872], MSE = 44.01\n",
      "Iteration #700: W_new = [44.9322076   3.83612652], MSE = 43.98\n",
      "Iteration #800: W_new = [45.00535449  3.82286246], MSE = 43.97\n",
      "Iteration #900: W_new = [45.0374363   3.81704492], MSE = 43.97\n"
     ]
    }
   ],
   "source": [
    "n = X.shape[1]\n",
    "alpha = 9e-3\n",
    "W = np.array([1, 0.5])\n",
    "print(f'Number of objects = {n} \\\n",
    "       \\nLearning rate = {alpha} \\\n",
    "       \\nInitial weights = {W} \\n')\n",
    "\n",
    "for i in range(1000):\n",
    "    y_pred = np.dot(W, X)\n",
    "    err = calc_mse(y, y_pred)\n",
    "#     for k in range(W.shape[0]):\n",
    "#         W[k] -= alpha * (1/n * 2 * np.sum(X[k] * (y_pred - y)))\n",
    "    W -= alpha * (1/n * 2 * np.sum(X * (y_pred - y), axis=1))\n",
    "    #W_pred = W\n",
    "    if i % 100 == 0:\n",
    "        print(f'Iteration #{i}: W_new = {W}, MSE = {round(err,2)}')"
   ]
  },
  {
   "cell_type": "markdown",
   "metadata": {},
   "source": [
    "Вобщем ошибка была в операции суммирования - np.sum без указания оси суммировала все в кучу, а надо было суммировать по признакам.."
   ]
  },
  {
   "cell_type": "code",
   "execution_count": 58,
   "metadata": {},
   "outputs": [
    {
     "data": {
      "text/plain": [
       "array([-0.05095986,  0.00924078])"
      ]
     },
     "execution_count": 58,
     "metadata": {},
     "output_type": "execute_result"
    }
   ],
   "source": [
    "np.sum(X * (y_pred - y), axis=1)\n",
    "# Исправило ошибку"
   ]
  },
  {
   "cell_type": "code",
   "execution_count": null,
   "metadata": {},
   "outputs": [],
   "source": []
  }
 ],
 "metadata": {
  "kernelspec": {
   "display_name": "Python 3",
   "language": "python",
   "name": "python3"
  },
  "language_info": {
   "codemirror_mode": {
    "name": "ipython",
    "version": 3
   },
   "file_extension": ".py",
   "mimetype": "text/x-python",
   "name": "python",
   "nbconvert_exporter": "python",
   "pygments_lexer": "ipython3",
   "version": "3.7.3"
  }
 },
 "nbformat": 4,
 "nbformat_minor": 2
}
